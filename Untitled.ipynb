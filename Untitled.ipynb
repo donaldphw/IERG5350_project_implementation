{
 "cells": [
  {
   "cell_type": "code",
   "execution_count": 1,
   "metadata": {},
   "outputs": [],
   "source": [
    "MAPS = {\n",
    "#     \"4x4\": [\n",
    "#         \"SFFF\",\n",
    "#         \"FHFH\",\n",
    "#         \"FFFH\",\n",
    "#         \"HFFG\"\n",
    "#     ],\n",
    "    \"8x8\": [\n",
    "        \"SWWWWWWD\",\n",
    "        \"WWWOOOWW\",\n",
    "        \"WWWOWWWW\",\n",
    "        \"WWWWWWOW\",\n",
    "        \"WOOWWWOD\",\n",
    "        \"OWWWOWWW\",\n",
    "        \"WWWWWWWW\",\n",
    "        \"DWWWOOWW\"\n",
    "    ],\n",
    "}\n"
   ]
  },
  {
   "cell_type": "code",
   "execution_count": 2,
   "metadata": {},
   "outputs": [
    {
     "data": {
      "text/plain": [
       "{'8x8': ['SWWWWWWD',\n",
       "  'WWWOOOWW',\n",
       "  'WWWOWWWW',\n",
       "  'WWWWWWOW',\n",
       "  'WOOWWWOD',\n",
       "  'OWWWOWWW',\n",
       "  'WWWWWWWW',\n",
       "  'DWWWOOWW']}"
      ]
     },
     "execution_count": 2,
     "metadata": {},
     "output_type": "execute_result"
    }
   ],
   "source": [
    "MAPS"
   ]
  },
  {
   "cell_type": "code",
   "execution_count": 3,
   "metadata": {},
   "outputs": [
    {
     "data": {
      "text/plain": [
       "8"
      ]
     },
     "execution_count": 3,
     "metadata": {},
     "output_type": "execute_result"
    }
   ],
   "source": [
    "len(MAPS[\"8x8\"])"
   ]
  },
  {
   "cell_type": "code",
   "execution_count": 4,
   "metadata": {},
   "outputs": [],
   "source": [
    "def get_destination(MAP):\n",
    "    destination = []\n",
    "    row = len(MAP)\n",
    "    col = len(MAP[row-1])\n",
    "    \n",
    "    for i in range(row):\n",
    "        for j in range(col):\n",
    "            \n",
    "            newletter = MAP[i][j]\n",
    "            print(i, j, i*col + j, newletter)\n",
    "            if newletter == \"D\":\n",
    "\n",
    "                destination.append(i*col + j)\n",
    "#     print(row, col)\n",
    "    \n",
    "    return destination"
   ]
  },
  {
   "cell_type": "code",
   "execution_count": 7,
   "metadata": {},
   "outputs": [
    {
     "name": "stdout",
     "output_type": "stream",
     "text": [
      "0 0 0 S\n",
      "0 1 1 W\n",
      "0 2 2 W\n",
      "0 3 3 W\n",
      "0 4 4 W\n",
      "0 5 5 W\n",
      "0 6 6 W\n",
      "0 7 7 D\n",
      "1 0 8 W\n",
      "1 1 9 W\n",
      "1 2 10 W\n",
      "1 3 11 O\n",
      "1 4 12 O\n",
      "1 5 13 O\n",
      "1 6 14 W\n",
      "1 7 15 W\n",
      "2 0 16 W\n",
      "2 1 17 W\n",
      "2 2 18 W\n",
      "2 3 19 O\n",
      "2 4 20 W\n",
      "2 5 21 W\n",
      "2 6 22 W\n",
      "2 7 23 W\n",
      "3 0 24 W\n",
      "3 1 25 W\n",
      "3 2 26 W\n",
      "3 3 27 W\n",
      "3 4 28 W\n",
      "3 5 29 W\n",
      "3 6 30 O\n",
      "3 7 31 W\n",
      "4 0 32 W\n",
      "4 1 33 O\n",
      "4 2 34 O\n",
      "4 3 35 W\n",
      "4 4 36 W\n",
      "4 5 37 W\n",
      "4 6 38 O\n",
      "4 7 39 D\n",
      "5 0 40 O\n",
      "5 1 41 W\n",
      "5 2 42 W\n",
      "5 3 43 W\n",
      "5 4 44 O\n",
      "5 5 45 W\n",
      "5 6 46 W\n",
      "5 7 47 W\n",
      "6 0 48 W\n",
      "6 1 49 W\n",
      "6 2 50 W\n",
      "6 3 51 W\n",
      "6 4 52 W\n",
      "6 5 53 W\n",
      "6 6 54 W\n",
      "6 7 55 W\n",
      "7 0 56 D\n",
      "7 1 57 W\n",
      "7 2 58 W\n",
      "7 3 59 W\n",
      "7 4 60 O\n",
      "7 5 61 O\n",
      "7 6 62 W\n",
      "7 7 63 W\n"
     ]
    }
   ],
   "source": [
    "destination = get_destination(MAPS[\"8x8\"])"
   ]
  },
  {
   "cell_type": "code",
   "execution_count": 8,
   "metadata": {},
   "outputs": [],
   "source": [
    "P = {s: {a: [] for a in range(4)} for s in range(64)}"
   ]
  },
  {
   "cell_type": "code",
   "execution_count": 38,
   "metadata": {},
   "outputs": [],
   "source": [
    "reached_destination = {D: False for D in destination}"
   ]
  },
  {
   "cell_type": "code",
   "execution_count": 39,
   "metadata": {},
   "outputs": [
    {
     "data": {
      "text/plain": [
       "{7: False, 39: False, 56: False}"
      ]
     },
     "execution_count": 39,
     "metadata": {},
     "output_type": "execute_result"
    }
   ],
   "source": [
    "reached_destination"
   ]
  },
  {
   "cell_type": "code",
   "execution_count": 12,
   "metadata": {},
   "outputs": [],
   "source": [
    "MAP = MAPS[\"8x8\"] "
   ]
  },
  {
   "cell_type": "code",
   "execution_count": 15,
   "metadata": {},
   "outputs": [],
   "source": [
    "import numpy as np\n",
    "MAP = np.asarray(MAP, dtype='c')"
   ]
  },
  {
   "cell_type": "code",
   "execution_count": 24,
   "metadata": {},
   "outputs": [
    {
     "data": {
      "text/plain": [
       "b'D'"
      ]
     },
     "execution_count": 24,
     "metadata": {},
     "output_type": "execute_result"
    }
   ],
   "source": [
    "MAP[0][7]"
   ]
  },
  {
   "cell_type": "code",
   "execution_count": 32,
   "metadata": {},
   "outputs": [],
   "source": [
    "done =  1 == 1"
   ]
  },
  {
   "cell_type": "code",
   "execution_count": 33,
   "metadata": {},
   "outputs": [
    {
     "data": {
      "text/plain": [
       "True"
      ]
     },
     "execution_count": 33,
     "metadata": {},
     "output_type": "execute_result"
    }
   ],
   "source": [
    "done"
   ]
  },
  {
   "cell_type": "code",
   "execution_count": 37,
   "metadata": {},
   "outputs": [
    {
     "data": {
      "text/plain": [
       "True"
      ]
     },
     "execution_count": 37,
     "metadata": {},
     "output_type": "execute_result"
    }
   ],
   "source": [
    "b'H' in b'GH'"
   ]
  },
  {
   "cell_type": "code",
   "execution_count": null,
   "metadata": {},
   "outputs": [],
   "source": []
  }
 ],
 "metadata": {
  "kernelspec": {
   "display_name": "Python 3",
   "language": "python",
   "name": "python3"
  },
  "language_info": {
   "codemirror_mode": {
    "name": "ipython",
    "version": 3
   },
   "file_extension": ".py",
   "mimetype": "text/x-python",
   "name": "python",
   "nbconvert_exporter": "python",
   "pygments_lexer": "ipython3",
   "version": "3.7.3"
  }
 },
 "nbformat": 4,
 "nbformat_minor": 4
}
